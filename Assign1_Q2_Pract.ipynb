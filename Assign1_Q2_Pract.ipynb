{
  "nbformat": 4,
  "nbformat_minor": 0,
  "metadata": {
    "colab": {
      "name": "Assign1_Q2_Pract.ipynb",
      "version": "0.3.2",
      "provenance": [],
      "collapsed_sections": []
    },
    "kernelspec": {
      "name": "python3",
      "display_name": "Python 3"
    },
    "accelerator": "GPU"
  },
  "cells": [
    {
      "metadata": {
        "id": "rlulqWvNXkBK",
        "colab_type": "text"
      },
      "cell_type": "markdown",
      "source": [
        "## Lawrence Abdulnour (20019894), Alexandre Marcil (C9464) and Louis-François Préville-Ratelle (708048)"
      ]
    },
    {
      "metadata": {
        "id": "hDCusB70acEu",
        "colab_type": "text"
      },
      "cell_type": "markdown",
      "source": [
        "#Q2 Practical Part"
      ]
    },
    {
      "metadata": {
        "id": "f2K1bZ44XeT9",
        "colab_type": "text"
      },
      "cell_type": "markdown",
      "source": [
        "## We used tp11 from last semester  (Ioannis' class) as a  starting point to design our networks."
      ]
    },
    {
      "metadata": {
        "id": "KtHEhD8vXcI8",
        "colab_type": "code",
        "colab": {}
      },
      "cell_type": "code",
      "source": [
        ""
      ],
      "execution_count": 0,
      "outputs": []
    },
    {
      "metadata": {
        "id": "kftztCaTO5JJ",
        "colab_type": "code",
        "colab": {}
      },
      "cell_type": "code",
      "source": [
        "import torch\n",
        "torch.manual_seed(0)\n",
        "import torch.nn as nn\n",
        "import torch.optim as optim\n",
        "import torch.nn.init as init\n",
        "import torch.nn.functional as F\n",
        "from torch.autograd import Variable\n",
        "from torch.utils.data import DataLoader\n",
        "from torch.utils.data.sampler import SubsetRandomSampler\n",
        "\n",
        "from torchvision import datasets, transforms\n",
        "\n",
        "\n",
        "import gzip\n",
        "import pickle\n",
        "import numpy as np\n",
        "np.random.seed(0)\n",
        "import random\n",
        "from random import seed\n",
        "from matplotlib.pyplot import figure\n",
        "import matplotlib.pyplot as plt\n",
        "\n",
        "import time"
      ],
      "execution_count": 0,
      "outputs": []
    },
    {
      "metadata": {
        "id": "3w4TpGGR82K1",
        "colab_type": "code",
        "colab": {}
      },
      "cell_type": "code",
      "source": [
        "### MNIST download ###\n",
        "#!wget http://deeplearning.net/data/mnist/mnist.pkl.gz\n",
        "#import pickle, gzip, numpy as np\n",
        "\n",
        "# Load the dataset\n",
        "#f = gzip.open('mnist.pkl.gz', 'rb')\n",
        "#train_set, valid_set, test_set = pickle.load(f, encoding=\"bytes\")\n",
        "#f.close()"
      ],
      "execution_count": 0,
      "outputs": []
    },
    {
      "metadata": {
        "id": "OAnaB7JaA48e",
        "colab_type": "code",
        "outputId": "d8dff04c-5b5f-41f9-f6ce-0e7967552999",
        "colab": {
          "base_uri": "https://localhost:8080/",
          "height": 76
        }
      },
      "cell_type": "code",
      "source": [
        "print(f\"Your version of Pytorch is {torch.__version__}\")"
      ],
      "execution_count": 0,
      "outputs": [
        {
          "output_type": "stream",
          "text": [
            "Your version of Pytorch is 1.0.1.post2\n"
          ],
          "name": "stdout"
        }
      ]
    },
    {
      "metadata": {
        "id": "VBSz4fRkA5Wj",
        "colab_type": "code",
        "outputId": "fabf66d6-343d-4412-fa1b-430c7ec38aeb",
        "colab": {
          "base_uri": "https://localhost:8080/",
          "height": 76
        }
      },
      "cell_type": "code",
      "source": [
        "# If a GPU is available, use it\n",
        "# Pytorch uses an elegant way to keep the code device agnostic\n",
        "if torch.cuda.is_available():\n",
        "    device = torch.device(\"cuda\")\n",
        "    use_cuda = True\n",
        "else:\n",
        "    device = torch.device(\"cpu\")\n",
        "    use_cuda = False\n",
        "    \n",
        "print(device)"
      ],
      "execution_count": 0,
      "outputs": [
        {
          "output_type": "stream",
          "text": [
            "cuda\n"
          ],
          "name": "stdout"
        }
      ]
    },
    {
      "metadata": {
        "id": "U3P9JkL2OfjP",
        "colab_type": "code",
        "outputId": "f344cdae-1339-4202-bdcd-f1de6a488218",
        "colab": {
          "base_uri": "https://localhost:8080/",
          "height": 156
        }
      },
      "cell_type": "code",
      "source": [
        "# dataset\n",
        "\n",
        "train_data = datasets.MNIST('../data', train=True, download=True,\n",
        "                   transform=transforms.Compose([\n",
        "                       transforms.ToTensor(),\n",
        "                       # Standardize with mean and std computed on train set\n",
        "                       transforms.Normalize((0.1307,), (0.3081,)),\n",
        "                   ]))\n",
        "\n",
        "test_data = datasets.MNIST('../data', train=False,\n",
        "                   transform=transforms.Compose([\n",
        "                       transforms.ToTensor(),\n",
        "                       transforms.Normalize((0.1307,), (0.3081,))\n",
        "                   ]))\n",
        "\n"
      ],
      "execution_count": 0,
      "outputs": [
        {
          "output_type": "stream",
          "text": [
            "Downloading http://yann.lecun.com/exdb/mnist/train-images-idx3-ubyte.gz\n",
            "Downloading http://yann.lecun.com/exdb/mnist/train-labels-idx1-ubyte.gz\n",
            "Downloading http://yann.lecun.com/exdb/mnist/t10k-images-idx3-ubyte.gz\n",
            "Downloading http://yann.lecun.com/exdb/mnist/t10k-labels-idx1-ubyte.gz\n",
            "Processing...\n",
            "Done!\n"
          ],
          "name": "stdout"
        }
      ]
    },
    {
      "metadata": {
        "id": "vgj_cAfNV7hL",
        "colab_type": "code",
        "colab": {}
      },
      "cell_type": "code",
      "source": [
        "# size of the scratch training set\n",
        "n_scratch = 64\n",
        "\n",
        "# This parameter influences optimization\n",
        "batch_size = 64\n",
        "# This is just for evaluation, we want is as big as the GPU can support\n",
        "batch_size_eval = 512\n",
        "\n",
        "\n",
        "indices = list(range(len(train_data)))\n",
        "random.shuffle(indices)"
      ],
      "execution_count": 0,
      "outputs": []
    },
    {
      "metadata": {
        "id": "nJWpSZY1O3fM",
        "colab_type": "code",
        "colab": {}
      },
      "cell_type": "code",
      "source": [
        "# DataLoaders\n",
        "\n",
        "# This is the subset of MNIST we want to overfit\n",
        "scratch_loader = DataLoader(\n",
        "    train_data,\n",
        "    batch_size=batch_size,\n",
        "    # The sampler is an easy way to say that we're using the elements\n",
        "    # `indices[:n_scratch]` for this loader\n",
        "    sampler=SubsetRandomSampler(indices[:n_scratch]),\n",
        "    num_workers=1,\n",
        "    pin_memory=use_cuda\n",
        ")\n",
        "\n",
        "# TODO: define a train, valid and test loader\n",
        "# size of the validation set\n",
        "n_valid = 10000\n",
        "\n",
        "train_loader = DataLoader(\n",
        "    train_data,\n",
        "    batch_size=batch_size,\n",
        "    sampler=SubsetRandomSampler(indices[n_valid:]),\n",
        "    #num_workers=1,\n",
        "    pin_memory=use_cuda\n",
        ")\n",
        "\n",
        "valid_loader = DataLoader(\n",
        "    train_data,\n",
        "    batch_size=batch_size_eval,\n",
        "    sampler=SubsetRandomSampler(indices[:n_valid]),\n",
        "    #num_workers=1,\n",
        "    pin_memory=use_cuda,\n",
        ")\n",
        "\n",
        "test_loader = DataLoader(\n",
        "    test_data,\n",
        "    batch_size=batch_size_eval,\n",
        "    #num_workers=1,\n",
        "    pin_memory=use_cuda,\n",
        ")"
      ],
      "execution_count": 0,
      "outputs": []
    },
    {
      "metadata": {
        "id": "Neb1_PwjyPIJ",
        "colab_type": "code",
        "outputId": "b18b758f-4f8f-435e-c983-14b79880bb5b",
        "colab": {
          "base_uri": "https://localhost:8080/",
          "height": 76
        }
      },
      "cell_type": "code",
      "source": [
        "print(len(test_data))"
      ],
      "execution_count": 0,
      "outputs": [
        {
          "output_type": "stream",
          "text": [
            "10000\n"
          ],
          "name": "stdout"
        }
      ]
    },
    {
      "metadata": {
        "id": "FqqSJaNwT_Z1",
        "colab_type": "code",
        "outputId": "b7298c35-2d72-4dca-ad68-d0d247bd4f8f",
        "colab": {
          "base_uri": "https://localhost:8080/",
          "height": 420
        }
      },
      "cell_type": "code",
      "source": [
        "# visualize and understand the data\n",
        "for inputs, targets in scratch_loader:\n",
        "    #print(f\"This is the shape of one batch {inputs.shape}. What is the meaning of each dimension?  batch size * channels * height * width\")\n",
        "    print(\"target\", targets.shape, list(targets))\n",
        "    img = inputs[0,0]\n",
        "    print(img.shape)\n",
        "    plt.imshow(img)\n",
        "    print(targets[0])\n",
        "    break"
      ],
      "execution_count": 0,
      "outputs": [
        {
          "output_type": "stream",
          "text": [
            "target torch.Size([64]) [tensor(6), tensor(5), tensor(4), tensor(0), tensor(7), tensor(3), tensor(8), tensor(4), tensor(5), tensor(8), tensor(8), tensor(2), tensor(1), tensor(0), tensor(7), tensor(6), tensor(9), tensor(2), tensor(8), tensor(7), tensor(9), tensor(3), tensor(0), tensor(6), tensor(5), tensor(8), tensor(7), tensor(1), tensor(8), tensor(1), tensor(1), tensor(9), tensor(1), tensor(0), tensor(3), tensor(4), tensor(8), tensor(2), tensor(9), tensor(7), tensor(6), tensor(1), tensor(8), tensor(4), tensor(0), tensor(5), tensor(7), tensor(1), tensor(5), tensor(0), tensor(0), tensor(3), tensor(6), tensor(3), tensor(8), tensor(2), tensor(5), tensor(1), tensor(9), tensor(1), tensor(7), tensor(1), tensor(8), tensor(5)]\n",
            "torch.Size([28, 28])\n",
            "tensor(6)\n"
          ],
          "name": "stdout"
        },
        {
          "output_type": "display_data",
          "data": {
            "image/png": "[encoded data removed]",
            "text/plain": [
              "<Figure size 576x396 with 1 Axes>"
            ]
          },
          "metadata": {
            "tags": []
          }
        }
      ]
    },
    {
      "metadata": {
        "id": "Bst98p4VO4jv",
        "colab_type": "text"
      },
      "cell_type": "markdown",
      "source": [
        "## Description of our CNN\n",
        "\n",
        "Hereby is a brief overview of our model. For more details, please refer to the exact model that follows.\n",
        "\n",
        "We used a CNN with four convolutional and two fully connected layers.  We chose kernel of size 5x5 for our convolutions with padding of 2 and stride of 1. BatchNorm was used to facilitate training of the network after each convolution, and then passed on to a relu activation function. Max pooling with a filter of size 2x2 and a stride of 2 after the second and the fourth convolutions changed the dimensions origininally of 28x28x1 down to 7x7x128. The number of channels for the convolutions are (32,64,64,128). The output of the last convolution is flattened, and the next hidden unit has size 50. This was then passed into a fully connected layer with 10 outputs, one for each digit. Loss was calculated using cross entropy loss witch includes softmax.\n",
        "\n",
        "The resulting CNN had a total of 674,224 parameters."
      ]
    },
    {
      "metadata": {
        "id": "sXt1lmpMWkvj",
        "colab_type": "code",
        "outputId": "33dad41f-b165-4005-8a50-65ac10fc4f59",
        "colab": {
          "base_uri": "https://localhost:8080/",
          "height": 568
        }
      },
      "cell_type": "code",
      "source": [
        "class NN(nn.Module):\n",
        "    def __init__(self):\n",
        "        super(NN, self).__init__()\n",
        "        \n",
        "        self.block0 = nn.Sequential(\n",
        "            nn.Conv2d(1, 32, kernel_size=5, padding=2),\n",
        "            nn.BatchNorm2d(32),\n",
        "            nn.ReLU())\n",
        "        \n",
        "        self.block1 = nn.Sequential(\n",
        "            nn.Conv2d(32, 64, kernel_size=5, padding=2),\n",
        "            nn.BatchNorm2d(64),\n",
        "            nn.ReLU(),\n",
        "            nn.MaxPool2d(2))\n",
        "        \n",
        "        self.block2 = nn.Sequential(\n",
        "            nn.Conv2d(64,64, kernel_size=5, padding=2),\n",
        "            nn.BatchNorm2d(64),\n",
        "            nn.ReLU())\n",
        "        \n",
        "        self.block3 = nn.Sequential(\n",
        "            nn.Conv2d(64, 128, kernel_size=5, padding=2),\n",
        "            nn.BatchNorm2d(128),\n",
        "            nn.ReLU(),\n",
        "            nn.MaxPool2d(2))\n",
        "        \n",
        "        self.fc1 = nn.Linear(7*7*128, 50)\n",
        "        \n",
        "        self.fc2 = nn.Linear(50, 10)\n",
        "        \n",
        "    def forward(self, x):\n",
        "      \n",
        "        out = self.block0(x)\n",
        "      \n",
        "        out = self.block1(out)\n",
        "\n",
        "        out = self.block2(out)\n",
        "        \n",
        "        out = self.block3(out)\n",
        "        \n",
        "        # Flatten the output of block2\n",
        "        out = out.view(out.size(0), -1)\n",
        "        \n",
        "        out = self.fc1(out)\n",
        "        \n",
        "        out = self.fc2(out)\n",
        "        \n",
        "        return out\n",
        "        \n",
        "model = NN()\n",
        "model = model.to(device)\n",
        "\n",
        "print(model)\n",
        "print(\"\\n\\n# Parameters: \", sum([param.nelement() for param in model.parameters()]))"
      ],
      "execution_count": 0,
      "outputs": [
        {
          "output_type": "stream",
          "text": [
            "NN(\n",
            "  (block0): Sequential(\n",
            "    (0): Conv2d(1, 32, kernel_size=(5, 5), stride=(1, 1), padding=(2, 2))\n",
            "    (1): BatchNorm2d(32, eps=1e-05, momentum=0.1, affine=True, track_running_stats=True)\n",
            "    (2): ReLU()\n",
            "  )\n",
            "  (block1): Sequential(\n",
            "    (0): Conv2d(32, 64, kernel_size=(5, 5), stride=(1, 1), padding=(2, 2))\n",
            "    (1): BatchNorm2d(64, eps=1e-05, momentum=0.1, affine=True, track_running_stats=True)\n",
            "    (2): ReLU()\n",
            "    (3): MaxPool2d(kernel_size=2, stride=2, padding=0, dilation=1, ceil_mode=False)\n",
            "  )\n",
            "  (block2): Sequential(\n",
            "    (0): Conv2d(64, 64, kernel_size=(5, 5), stride=(1, 1), padding=(2, 2))\n",
            "    (1): BatchNorm2d(64, eps=1e-05, momentum=0.1, affine=True, track_running_stats=True)\n",
            "    (2): ReLU()\n",
            "  )\n",
            "  (block3): Sequential(\n",
            "    (0): Conv2d(64, 128, kernel_size=(5, 5), stride=(1, 1), padding=(2, 2))\n",
            "    (1): BatchNorm2d(128, eps=1e-05, momentum=0.1, affine=True, track_running_stats=True)\n",
            "    (2): ReLU()\n",
            "    (3): MaxPool2d(kernel_size=2, stride=2, padding=0, dilation=1, ceil_mode=False)\n",
            "  )\n",
            "  (fc1): Linear(in_features=6272, out_features=50, bias=True)\n",
            "  (fc2): Linear(in_features=50, out_features=10, bias=True)\n",
            ")\n",
            "\n",
            "\n",
            "# Parameters:  674224\n"
          ],
          "name": "stdout"
        }
      ]
    },
    {
      "metadata": {
        "id": "wyRCZH9PgTOm",
        "colab_type": "code",
        "colab": {}
      },
      "cell_type": "code",
      "source": [
        "# Surrogate loss used for training\n",
        "loss_fn = nn.CrossEntropyLoss()\n",
        "test_loss_fn = nn.CrossEntropyLoss(reduction='sum')\n",
        "\n",
        "# spot to save your learning curves, and potentially checkpoint your models\n",
        "#savedir = 'results'\n",
        "#if not os.path.exists(savedir):\n",
        "#    os.makedirs(savedir)"
      ],
      "execution_count": 0,
      "outputs": []
    },
    {
      "metadata": {
        "id": "8rq9VoPEhl5l",
        "colab_type": "code",
        "colab": {}
      },
      "cell_type": "code",
      "source": [
        "def train(model,train_loader, optimizer, epoch ):\n",
        "    \"\"\"Perform one epoch of training.\"\"\"\n",
        "    model.train()\n",
        "    \n",
        "    train_loss = 0\n",
        "    correct = 0\n",
        "    train_size = 0\n",
        "    for batch_idx, (inputs, target) in enumerate(train_loader):\n",
        "        inputs, target = inputs.to(device), target.to(device)\n",
        "        \n",
        "        # Let them code what's here\n",
        "        optimizer.zero_grad()\n",
        "        output = model(inputs)\n",
        "        loss = loss_fn(output, target)\n",
        "        loss.backward()\n",
        "        optimizer.step()\n",
        "        ###\n",
        "        #train_size += len(inputs)\n",
        "        #train_loss += test_loss_fn(output, target).item() # sum up batch loss\n",
        "        #pred = output.max(1, keepdim=True)[1] # get the index of the max log-probability\n",
        "        #correct += pred.eq(target.view_as(pred)).sum().item()\n",
        "        \n",
        "        \n",
        "        \n",
        "        if batch_idx % 100 == 0:\n",
        "            print('Train Epoch: {} [{}/{} ({:.0f}%)]\\tLoss: {:.6f}'.format(\n",
        "                epoch, batch_idx * len(inputs), len(train_loader) *len(inputs) ,\n",
        "                100. * batch_idx / len(train_loader), loss.item()))\n",
        "            \n",
        "    #train_loss /= train_size\n",
        "    #accuracy = correct / train_size\n",
        "    #print('\\Train set: Average loss: {:.4f}, Accuracy: {}/{} ({:.0f}%)\\n'.format(\n",
        "        #train_loss, correct, train_size,\n",
        "        #100. * accuracy))\n",
        "    \n",
        "    #return train_loss, accuracy"
      ],
      "execution_count": 0,
      "outputs": []
    },
    {
      "metadata": {
        "id": "BjCsUOfdhr2R",
        "colab_type": "code",
        "colab": {}
      },
      "cell_type": "code",
      "source": [
        "def test(model, test_loader, split=\"test\"):\n",
        "    \"\"\"Evaluate the model by doing one pass over a dataset\"\"\"\n",
        "    model.eval()\n",
        "    \n",
        "    test_loss = 0\n",
        "    correct = 0\n",
        "    test_size = 0\n",
        "    with torch.no_grad():\n",
        "        for inputs, target in test_loader:\n",
        "            inputs, target = inputs.to(device), target.to(device)\n",
        "            \n",
        "            # let them code what's here\n",
        "            output = model(inputs)\n",
        "            test_size += len(inputs)\n",
        "            test_loss += test_loss_fn(output, target).item() # sum up batch loss\n",
        "            pred = output.max(1, keepdim=True)[1] # get the index of the max log-probability\n",
        "            correct += pred.eq(target.view_as(pred)).sum().item()\n",
        "\n",
        "    test_loss /= test_size\n",
        "    accuracy = correct / test_size\n",
        "    \n",
        "    print('\\n' + split + ' set: Average loss: {:.4f}, Accuracy: {}/{} ({:.2f}%)\\n'.format(\n",
        "        test_loss, correct, test_size,\n",
        "        100. * accuracy))\n",
        "    \n",
        "    return test_loss, accuracy"
      ],
      "execution_count": 0,
      "outputs": []
    },
    {
      "metadata": {
        "id": "16E1IdphgwtY",
        "colab_type": "code",
        "outputId": "c82fc039-9f8b-44a4-e885-8a831f06b359",
        "colab": {
          "base_uri": "https://localhost:8080/",
          "height": 2519
        }
      },
      "cell_type": "code",
      "source": [
        "start_time = time.time()\n",
        "\n",
        "model = NN().to(device)\n",
        "\n",
        "lr = 0.000015\n",
        "#optimizer = optim.SGD(model.parameters(), lr=lr, momentum=0.9)\n",
        "optimizer = optim.Adam(model.parameters(), lr=lr)\n",
        "\n",
        "results_train = {'loss': [], 'accuracy':[]}\n",
        "results_test = {'loss': [], 'accuracy':[]}\n",
        "\n",
        "#savefile = os.path.join(savedir, results['name']+str(results['lr'])+'.pkl' )\n",
        "\n",
        "#torch.manual_seed(0)\n",
        "\n",
        "num_epochs = 10\n",
        "for epoch in range(1, num_epochs+1):\n",
        "    train(model, train_loader, optimizer, epoch)\n",
        "    loss_train, acc_train = test(model, train_loader, \"train\")\n",
        "    loss_test, acc_test = test(model, test_loader)\n",
        "    \n",
        "    # save results every epoch\n",
        "    results_train['loss'].append(loss_train)\n",
        "    results_train['accuracy'].append(acc_train)\n",
        "    \n",
        "    results_test['loss'].append(loss_test)\n",
        "    results_test['accuracy'].append(acc_test)\n",
        "    #with open(savefile, 'wb') as fout:\n",
        "        #pickle.dump(results, fout)\n",
        "      \n",
        "total_time = time.time() - start_time\n",
        "\n",
        "print(\"Total time to train and evaluate at each each epoch: {0:.0f} seconds\".format(total_time))\n"
      ],
      "execution_count": 0,
      "outputs": [
        {
          "output_type": "stream",
          "text": [
            "Train Epoch: 1 [0/50048 (0%)]\tLoss: 2.335327\n",
            "Train Epoch: 1 [6400/50048 (13%)]\tLoss: 1.433928\n",
            "Train Epoch: 1 [12800/50048 (26%)]\tLoss: 0.750030\n",
            "Train Epoch: 1 [19200/50048 (38%)]\tLoss: 0.461005\n",
            "Train Epoch: 1 [25600/50048 (51%)]\tLoss: 0.377401\n",
            "Train Epoch: 1 [32000/50048 (64%)]\tLoss: 0.311611\n",
            "Train Epoch: 1 [38400/50048 (77%)]\tLoss: 0.230419\n",
            "Train Epoch: 1 [44800/50048 (90%)]\tLoss: 0.144785\n",
            "\n",
            "train set: Average loss: 0.1744, Accuracy: 48139/50000 (96.28%)\n",
            "\n",
            "\n",
            "test set: Average loss: 0.1626, Accuracy: 9647/10000 (96.47%)\n",
            "\n",
            "Train Epoch: 2 [0/50048 (0%)]\tLoss: 0.285443\n",
            "Train Epoch: 2 [6400/50048 (13%)]\tLoss: 0.180010\n",
            "Train Epoch: 2 [12800/50048 (26%)]\tLoss: 0.084520\n",
            "Train Epoch: 2 [19200/50048 (38%)]\tLoss: 0.150021\n",
            "Train Epoch: 2 [25600/50048 (51%)]\tLoss: 0.070973\n",
            "Train Epoch: 2 [32000/50048 (64%)]\tLoss: 0.156258\n",
            "Train Epoch: 2 [38400/50048 (77%)]\tLoss: 0.118181\n",
            "Train Epoch: 2 [44800/50048 (90%)]\tLoss: 0.220925\n",
            "\n",
            "train set: Average loss: 0.0894, Accuracy: 48898/50000 (97.80%)\n",
            "\n",
            "\n",
            "test set: Average loss: 0.0802, Accuracy: 9809/10000 (98.09%)\n",
            "\n",
            "Train Epoch: 3 [0/50048 (0%)]\tLoss: 0.028037\n",
            "Train Epoch: 3 [6400/50048 (13%)]\tLoss: 0.054317\n",
            "Train Epoch: 3 [12800/50048 (26%)]\tLoss: 0.129853\n",
            "Train Epoch: 3 [19200/50048 (38%)]\tLoss: 0.078825\n",
            "Train Epoch: 3 [25600/50048 (51%)]\tLoss: 0.064073\n",
            "Train Epoch: 3 [32000/50048 (64%)]\tLoss: 0.115179\n",
            "Train Epoch: 3 [38400/50048 (77%)]\tLoss: 0.031413\n",
            "Train Epoch: 3 [44800/50048 (90%)]\tLoss: 0.026990\n",
            "\n",
            "train set: Average loss: 0.0615, Accuracy: 49189/50000 (98.38%)\n",
            "\n",
            "\n",
            "test set: Average loss: 0.0558, Accuracy: 9845/10000 (98.45%)\n",
            "\n",
            "Train Epoch: 4 [0/50048 (0%)]\tLoss: 0.034077\n",
            "Train Epoch: 4 [6400/50048 (13%)]\tLoss: 0.030795\n",
            "Train Epoch: 4 [12800/50048 (26%)]\tLoss: 0.033436\n",
            "Train Epoch: 4 [19200/50048 (38%)]\tLoss: 0.028277\n",
            "Train Epoch: 4 [25600/50048 (51%)]\tLoss: 0.087148\n",
            "Train Epoch: 4 [32000/50048 (64%)]\tLoss: 0.059152\n",
            "Train Epoch: 4 [38400/50048 (77%)]\tLoss: 0.044556\n",
            "Train Epoch: 4 [44800/50048 (90%)]\tLoss: 0.041482\n",
            "\n",
            "train set: Average loss: 0.0465, Accuracy: 49391/50000 (98.78%)\n",
            "\n",
            "\n",
            "test set: Average loss: 0.0431, Accuracy: 9871/10000 (98.71%)\n",
            "\n",
            "Train Epoch: 5 [0/50048 (0%)]\tLoss: 0.050211\n",
            "Train Epoch: 5 [6400/50048 (13%)]\tLoss: 0.053361\n",
            "Train Epoch: 5 [12800/50048 (26%)]\tLoss: 0.052265\n",
            "Train Epoch: 5 [19200/50048 (38%)]\tLoss: 0.065679\n",
            "Train Epoch: 5 [25600/50048 (51%)]\tLoss: 0.041332\n",
            "Train Epoch: 5 [32000/50048 (64%)]\tLoss: 0.019408\n",
            "Train Epoch: 5 [38400/50048 (77%)]\tLoss: 0.040143\n",
            "Train Epoch: 5 [44800/50048 (90%)]\tLoss: 0.081940\n",
            "\n",
            "train set: Average loss: 0.0370, Accuracy: 49513/50000 (99.03%)\n",
            "\n",
            "\n",
            "test set: Average loss: 0.0364, Accuracy: 9888/10000 (98.88%)\n",
            "\n",
            "Train Epoch: 6 [0/50048 (0%)]\tLoss: 0.060083\n",
            "Train Epoch: 6 [6400/50048 (13%)]\tLoss: 0.015383\n",
            "Train Epoch: 6 [12800/50048 (26%)]\tLoss: 0.051074\n",
            "Train Epoch: 6 [19200/50048 (38%)]\tLoss: 0.022798\n",
            "Train Epoch: 6 [25600/50048 (51%)]\tLoss: 0.063319\n",
            "Train Epoch: 6 [32000/50048 (64%)]\tLoss: 0.039399\n",
            "Train Epoch: 6 [38400/50048 (77%)]\tLoss: 0.027776\n",
            "Train Epoch: 6 [44800/50048 (90%)]\tLoss: 0.085600\n",
            "\n",
            "train set: Average loss: 0.0294, Accuracy: 49624/50000 (99.25%)\n",
            "\n",
            "\n",
            "test set: Average loss: 0.0306, Accuracy: 9909/10000 (99.09%)\n",
            "\n",
            "Train Epoch: 7 [0/50048 (0%)]\tLoss: 0.030920\n",
            "Train Epoch: 7 [6400/50048 (13%)]\tLoss: 0.043465\n",
            "Train Epoch: 7 [12800/50048 (26%)]\tLoss: 0.009221\n",
            "Train Epoch: 7 [19200/50048 (38%)]\tLoss: 0.009124\n",
            "Train Epoch: 7 [25600/50048 (51%)]\tLoss: 0.005201\n",
            "Train Epoch: 7 [32000/50048 (64%)]\tLoss: 0.005850\n",
            "Train Epoch: 7 [38400/50048 (77%)]\tLoss: 0.043701\n",
            "Train Epoch: 7 [44800/50048 (90%)]\tLoss: 0.008036\n",
            "\n",
            "train set: Average loss: 0.0269, Accuracy: 49644/50000 (99.29%)\n",
            "\n",
            "\n",
            "test set: Average loss: 0.0308, Accuracy: 9900/10000 (99.00%)\n",
            "\n",
            "Train Epoch: 8 [0/50048 (0%)]\tLoss: 0.007417\n",
            "Train Epoch: 8 [6400/50048 (13%)]\tLoss: 0.008476\n",
            "Train Epoch: 8 [12800/50048 (26%)]\tLoss: 0.064599\n",
            "Train Epoch: 8 [19200/50048 (38%)]\tLoss: 0.014733\n",
            "Train Epoch: 8 [25600/50048 (51%)]\tLoss: 0.010955\n",
            "Train Epoch: 8 [32000/50048 (64%)]\tLoss: 0.007163\n",
            "Train Epoch: 8 [38400/50048 (77%)]\tLoss: 0.049760\n",
            "Train Epoch: 8 [44800/50048 (90%)]\tLoss: 0.041524\n",
            "\n",
            "train set: Average loss: 0.0219, Accuracy: 49727/50000 (99.45%)\n",
            "\n",
            "\n",
            "test set: Average loss: 0.0263, Accuracy: 9910/10000 (99.10%)\n",
            "\n",
            "Train Epoch: 9 [0/50048 (0%)]\tLoss: 0.050434\n",
            "Train Epoch: 9 [6400/50048 (13%)]\tLoss: 0.006511\n",
            "Train Epoch: 9 [12800/50048 (26%)]\tLoss: 0.025948\n",
            "Train Epoch: 9 [19200/50048 (38%)]\tLoss: 0.007872\n",
            "Train Epoch: 9 [25600/50048 (51%)]\tLoss: 0.027969\n",
            "Train Epoch: 9 [32000/50048 (64%)]\tLoss: 0.010245\n",
            "Train Epoch: 9 [38400/50048 (77%)]\tLoss: 0.016809\n",
            "Train Epoch: 9 [44800/50048 (90%)]\tLoss: 0.008712\n",
            "\n",
            "train set: Average loss: 0.0179, Accuracy: 49790/50000 (99.58%)\n",
            "\n",
            "\n",
            "test set: Average loss: 0.0244, Accuracy: 9921/10000 (99.21%)\n",
            "\n",
            "Train Epoch: 10 [0/50048 (0%)]\tLoss: 0.006034\n",
            "Train Epoch: 10 [6400/50048 (13%)]\tLoss: 0.004814\n",
            "Train Epoch: 10 [12800/50048 (26%)]\tLoss: 0.006157\n",
            "Train Epoch: 10 [19200/50048 (38%)]\tLoss: 0.004142\n",
            "Train Epoch: 10 [25600/50048 (51%)]\tLoss: 0.035301\n",
            "Train Epoch: 10 [32000/50048 (64%)]\tLoss: 0.002994\n",
            "Train Epoch: 10 [38400/50048 (77%)]\tLoss: 0.009660\n",
            "Train Epoch: 10 [44800/50048 (90%)]\tLoss: 0.020451\n",
            "\n",
            "train set: Average loss: 0.0169, Accuracy: 49799/50000 (99.60%)\n",
            "\n",
            "\n",
            "test set: Average loss: 0.0248, Accuracy: 9927/10000 (99.27%)\n",
            "\n",
            "Total time to train and evaluate at each each epoch: 349 seconds\n"
          ],
          "name": "stdout"
        }
      ]
    },
    {
      "metadata": {
        "id": "64Il-psHMba-",
        "colab_type": "text"
      },
      "cell_type": "markdown",
      "source": [
        "## Train and Validation Losses"
      ]
    },
    {
      "metadata": {
        "id": "_JZCwWsbhGhH",
        "colab_type": "code",
        "outputId": "2f3e188a-f455-4f67-f854-da2fed3bf12d",
        "colab": {
          "base_uri": "https://localhost:8080/",
          "height": 401
        }
      },
      "cell_type": "code",
      "source": [
        "# Plot training and validation curve\n",
        "x = range(1, num_epochs + 1)\n",
        "plt.plot(x, results_train[\"loss\"], label='train')\n",
        "plt.plot(x, results_test[\"loss\"], label='valid')\n",
        "\n",
        "plt.xlabel('# epochs')\n",
        "plt.ylabel('Loss')\n",
        "plt.legend()\n",
        "\n",
        "plt.show()\n"
      ],
      "execution_count": 0,
      "outputs": [
        {
          "output_type": "display_data",
          "data": {
            "image/png": "[encoded data removed]",
            "text/plain": [
              "<Figure size 576x396 with 1 Axes>"
            ]
          },
          "metadata": {
            "tags": []
          }
        }
      ]
    },
    {
      "metadata": {
        "id": "I6_UKmPhMvTN",
        "colab_type": "text"
      },
      "cell_type": "markdown",
      "source": [
        "## Train and Validation Accuracies"
      ]
    },
    {
      "metadata": {
        "id": "O_y0lt4zkdbL",
        "colab_type": "code",
        "outputId": "f3d4f100-2f9c-46e7-9191-59621be26da2",
        "colab": {
          "base_uri": "https://localhost:8080/",
          "height": 401
        }
      },
      "cell_type": "code",
      "source": [
        "# Plot training and validation curve\n",
        "x = range(1, num_epochs + 1)\n",
        "plt.plot(x, results_train[\"accuracy\"], label='train')\n",
        "plt.plot(x, results_test[\"accuracy\"], label='valid')\n",
        "\n",
        "plt.xlabel('# epochs')\n",
        "plt.ylabel('accuracy')\n",
        "plt.legend()\n",
        "\n",
        "plt.show()"
      ],
      "execution_count": 0,
      "outputs": [
        {
          "output_type": "display_data",
          "data": {
            "image/png": "[encoded data removed]",
            "text/plain": [
              "<Figure size 576x396 with 1 Axes>"
            ]
          },
          "metadata": {
            "tags": []
          }
        }
      ]
    },
    {
      "metadata": {
        "id": "Ntr2UeYGSU79",
        "colab_type": "text"
      },
      "cell_type": "markdown",
      "source": [
        "## The performances of CNN vs MLP"
      ]
    },
    {
      "metadata": {
        "id": "lpMhRJFzXiqG",
        "colab_type": "text"
      },
      "cell_type": "markdown",
      "source": [
        "We trained both the MLP and the CNN for exactly 10 epochs. Despite both models having around 670,000 parameters, the training of the MLP takes around 50 minutes, and the CNN needs less than 6 minutes. The main difference the MLP is a lot slower is that it uses a CPU, which a lot slower than the GPU used by our CNN.\n",
        "The testing error for the MLP is around 1.8%, which is more than twice the testing error of 0.73% for the CNN. The latter is better because it uses local spatial coherence, which is impossible with the former. Of course, the MLP has only 2 hidden layers. The CNN, with 4 hidden layers, has an advantage here. But we tried several CNNs with only two hidden layers, and the testing errors were still around 1%.\n",
        "Despite the simplicity of the MNIST dataset, this shows the advantage of the CNN over the MLP for image recognition."
      ]
    },
    {
      "metadata": {
        "id": "-Z_NHkpOLp5i",
        "colab_type": "code",
        "colab": {}
      },
      "cell_type": "code",
      "source": [
        ""
      ],
      "execution_count": 0,
      "outputs": []
    }
  ]
}