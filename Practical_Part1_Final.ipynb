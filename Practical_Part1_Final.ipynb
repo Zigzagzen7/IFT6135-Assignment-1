{
 "cells": [
  {
   "cell_type": "markdown",
   "metadata": {
    "colab_type": "text",
    "id": "3DIZw3iLJtfb"
   },
   "source": [
    "## Lawrence Abdulnour (20019894), Alexandre Marcil (C9464) and Louis-François Préville-Ratelle (708048)"
   ]
  },
  {
   "cell_type": "markdown",
   "metadata": {
    "colab_type": "text",
    "id": "lN7kxR7vIrk8"
   },
   "source": [
    "## Q1 Practical Part"
   ]
  },
  {
   "cell_type": "markdown",
   "metadata": {
    "colab_type": "text",
    "id": "B1EIGJ0S7EwY"
   },
   "source": [
    "## 1, 2 & 3"
   ]
  },
  {
   "cell_type": "markdown",
   "metadata": {
    "colab_type": "text",
    "id": "FNUqfIFyczVb"
   },
   "source": [
    "#### I. Importing packages and visualizing the data."
   ]
  },
  {
   "cell_type": "code",
   "execution_count": 13,
   "metadata": {
    "colab": {
     "base_uri": "https://localhost:8080/",
     "height": 204
    },
    "colab_type": "code",
    "id": "Q5dGMRdLAoZE",
    "outputId": "00b723c5-dc1d-4939-9c71-17c4e9fa59a8"
   },
   "outputs": [
    {
     "name": "stdout",
     "output_type": "stream",
     "text": [
      "--2019-02-18 02:21:56--  http://deeplearning.net/data/mnist/mnist.pkl.gz\n",
      "Resolving deeplearning.net (deeplearning.net)... 132.204.26.28\n",
      "Connecting to deeplearning.net (deeplearning.net)|132.204.26.28|:80... connected.\n",
      "HTTP request sent, awaiting response... 200 OK\n",
      "Length: 16168813 (15M) [application/x-gzip]\n",
      "Saving to: ‘mnist.pkl.gz.1’\n",
      "\n",
      "mnist.pkl.gz.1      100%[===================>]  15.42M  7.86MB/s    in 2.0s    \n",
      "\n",
      "2019-02-18 02:22:00 (7.86 MB/s) - ‘mnist.pkl.gz.1’ saved [16168813/16168813]\n",
      "\n"
     ]
    }
   ],
   "source": [
    "### MNIST download ###\n",
    "!wget http://deeplearning.net/data/mnist/mnist.pkl.gz\n",
    "import pickle, gzip, numpy as np\n",
    "\n",
    "# Load the dataset\n",
    "f = gzip.open('mnist.pkl.gz', 'rb')\n",
    "train_set, valid_set, test_set = pickle.load(f, encoding=\"bytes\")\n",
    "f.close()"
   ]
  },
  {
   "cell_type": "code",
   "execution_count": 0,
   "metadata": {
    "colab": {},
    "colab_type": "code",
    "id": "X21dl6_rJ9i5"
   },
   "outputs": [],
   "source": [
    "import gzip\n",
    "import pickle\n",
    "import copy\n",
    "import numpy as np\n",
    "import random\n",
    "from random import seed\n",
    "from matplotlib.pyplot import figure\n",
    "import matplotlib.pyplot as plt"
   ]
  },
  {
   "cell_type": "code",
   "execution_count": 3,
   "metadata": {
    "colab": {
     "base_uri": "https://localhost:8080/",
     "height": 68
    },
    "colab_type": "code",
    "id": "dlhUaWSoA6BC",
    "outputId": "a78306f3-2b79-4425-b47e-103b359b12f6"
   },
   "outputs": [
    {
     "name": "stdout",
     "output_type": "stream",
     "text": [
      "(50000, 784)\n",
      "(10000, 784)\n",
      "(10000, 784)\n"
     ]
    }
   ],
   "source": [
    "print(train_set[0].shape)\n",
    "print(valid_set[0].shape)\n",
    "print(test_set[0].shape)"
   ]
  },
  {
   "cell_type": "code",
   "execution_count": 4,
   "metadata": {
    "colab": {
     "base_uri": "https://localhost:8080/",
     "height": 364
    },
    "colab_type": "code",
    "id": "eSCV7LQyJcNL",
    "outputId": "8ced04e9-f5e2-4df7-aa22-a7b4c47ebfc5"
   },
   "outputs": [
    {
     "name": "stdout",
     "output_type": "stream",
     "text": [
      "3\n"
     ]
    },
    {
     "data": {
      "image/png": "[encoded data removed]",
      "text/plain": [
       "<Figure size 576x396 with 1 Axes>"
      ]
     },
     "metadata": {
      "tags": []
     },
     "output_type": "display_data"
    }
   ],
   "source": [
    "x=train_set[0].reshape(-1,28,28)\n",
    "y=train_set[1]\n",
    "\n",
    "from matplotlib.pyplot import figure\n",
    "import matplotlib.pyplot as plt\n",
    "plt.imshow(x[12],interpolation='lanczos')\n",
    "print(y[12])"
   ]
  },
  {
   "cell_type": "markdown",
   "metadata": {
    "colab_type": "text",
    "id": "Im7bCtWuddpI"
   },
   "source": [
    "#### II. Defining our class structure"
   ]
  },
  {
   "cell_type": "code",
   "execution_count": 0,
   "metadata": {
    "colab": {},
    "colab_type": "code",
    "id": "yeZxgoX5Jk8R"
   },
   "outputs": [],
   "source": [
    "class NN(object):\n",
    "    \n",
    "    def __init__(self, input_dim = 784, hidden_dim=[64,128], output_dim = 10, n_hidden=2, initialization = 'glorot'):\n",
    "        \n",
    "        \n",
    "        \"\"\"In this section, we define variables that will be often used in other\n",
    "        methods of this class. We also initialize our parameters using the \n",
    "        initialize_weights method.\n",
    "        \"\"\"\n",
    "        \n",
    "        \n",
    "        self.input_dim = input_dim\n",
    "        self.hidden_dim = hidden_dim \n",
    "        self.output_dim = output_dim\n",
    "        self.n_hidden = n_hidden\n",
    "        self.all_dim = [self.input_dim]+list(self.hidden_dim)+[self.output_dim]\n",
    "        \n",
    "        self.initialization = initialization\n",
    "        self.initialize_weights()\n",
    "        np.random.seed(0)\n",
    "        \n",
    "        \n",
    "    def initialize_weights(self):\n",
    "        \n",
    "        \n",
    "        \"\"\"3 methods are defined in order to initialize weights throughout all \n",
    "        layers (all biases are set to zero):\n",
    "        1)all weights parameters are initialized to zero (like biases),\n",
    "        2)weights are drawn from a normal distribution between 0 and 1,\n",
    "        3)weights are drawn from a normal distribution between -bound and bound.\n",
    "        \"\"\"\n",
    "        \n",
    "        \n",
    "        W = {}\n",
    "        b = {}\n",
    "        \n",
    "        random.seed(9001)\n",
    "        \n",
    "        for layer in range(1,len(self.all_dim)):\n",
    "            \n",
    "            shape_W = (self.all_dim[layer-1], self.all_dim[layer])\n",
    "            shape_b = (1, self.all_dim[layer])\n",
    "            \n",
    "            if self.initialization == 'zero':\n",
    "                W['W' + str(layer)] = np.zeros( shape_W )\n",
    "                \n",
    "            elif self.initialization == 'normal':\n",
    "                W['W' + str(layer)] = np.random.normal(0, 1, shape_W)\n",
    "            \n",
    "            else:\n",
    "                bound = (6/(self.all_dim[layer-1] + self.all_dim[layer]))**(0.5)\n",
    "                W['W' + str(layer)] = np.random.uniform(-bound,bound,shape_W)\n",
    "            \n",
    "            b['b'+ str(layer)] = np.zeros( shape_b )\n",
    "        \n",
    "        self.W = W\n",
    "        self.b = b\n",
    "        \n",
    "        return self.W, self.b\n",
    "    \n",
    "    def forward(self, X): \n",
    "        \n",
    "        \n",
    "        \"\"\"Forward pass of inputs. Parameter X is a matrix of dimension \n",
    "        (n, self.input_dim) where n is the number of samples in a batch \n",
    "        (in stochastic gradient descent, n=1). \n",
    "        \"\"\"\n",
    "        \n",
    "        \n",
    "        ha = {}\n",
    "        hs = {}\n",
    "        x = X.reshape(-1, self.input_dim)\n",
    "        \n",
    "        for layer in range(1,len(self.all_dim)):\n",
    "            \n",
    "            W = self.W['W'+ str(layer)]\n",
    "            \n",
    "            b = self.b['b'+ str(layer)]\n",
    "            \n",
    "            ha['ha'+ str(layer)] = (x).dot(W) + b \n",
    "            \n",
    "            if layer < len(self.all_dim) - 1:\n",
    "                \n",
    "                x = self.activation(ha['ha'+ str(layer)])\n",
    "                \n",
    "            else:\n",
    "                \n",
    "                x = self.softmax(ha['ha' + str(layer)]) \n",
    "            \n",
    "            hs['hs' + str(layer)] = x\n",
    "    \n",
    "        self.ha = ha\n",
    "        self.hs = hs\n",
    "    \n",
    "        return self.ha, self.hs\n",
    "    \n",
    "    def activation(self, X):\n",
    "        \n",
    "        \"\"\"Activation function of hidden layers\"\"\"\n",
    "    \n",
    "            \n",
    "        return np.maximum(X,0)\n",
    "        \n",
    "    def indic(self, X):\n",
    "        \n",
    "        \"\"\"Derivative of activation function of hidden layers happens to be the\n",
    "        indicator function.\n",
    "        \"\"\"\n",
    "        \n",
    "        return X > 0\n",
    "    \n",
    "    def softmax(self, X):\n",
    "        \n",
    "        \n",
    "        \"\"\"Using softmax as the activation function for the output of the model\n",
    "        \"\"\"\n",
    "        \n",
    "        X = np.atleast_2d(np.array(X))\n",
    "        max_vals = np.amax(X, axis=1)\n",
    "        max_vals = max_vals.reshape(max_vals.shape[0], 1)\n",
    "        e = np.exp(X - max_vals)\n",
    "        result = e / np.sum(e, axis=1, keepdims=True)\n",
    "        \n",
    "        return result\n",
    "    \n",
    "    def onehot(self, Y, m):\n",
    "        \n",
    "        \n",
    "        \"\"\"Onehot vector representation\"\"\"\n",
    "        \n",
    "        \n",
    "        Y = np.atleast_2d(Y).transpose()\n",
    "        onehot = np.zeros((len(Y), m))\n",
    "        \n",
    "        for i in range(len(Y)):\n",
    "            \n",
    "            onehot[i,Y[i].astype(int)] = 1\n",
    "        \n",
    "        return onehot\n",
    "    \n",
    "    def loss(self, X, Y):\n",
    "        \n",
    "        \n",
    "        \"\"\"Loss function used : is cross-entropy. The parameters are X and Y \n",
    "        where X is in the form of matrix, similarly to parameter X in the \n",
    "        forward pass, and Y is an array-like of labels for the corresponding \n",
    "        samples of X. \n",
    "        \"\"\"\n",
    "        \n",
    "        \n",
    "        return (-np.log(self.predict(X)) * self.onehot(Y,self.output_dim)).sum(axis=1).mean()\n",
    "    \n",
    "    def backward(self, X, Y):\n",
    "        \n",
    "        \n",
    "        \"\"\"Back propagation of outputs to train our model\"\"\"\n",
    "        \n",
    "        \n",
    "        grad_hs = {}\n",
    "        grad_ha = {}\n",
    "        grad_W = {}\n",
    "        grad_b= {}\n",
    "        \n",
    "        self.forward(X) #we execute the forward pass\n",
    "        \n",
    "        for layer in reversed(range(1,len(self.all_dim))):\n",
    "            \n",
    "            if layer == len(self.all_dim)-1:\n",
    "                \n",
    "                grad_ha[str(layer)] = self.hs['hs' + str(layer)] - self.onehot(Y, self.output_dim)     \n",
    "                grad_W[str(layer)] = ((self.hs['hs' + str(layer-1)]).T).dot(grad_ha[str(layer)])\n",
    "                grad_W[str(layer)] /= (X.shape[0])\n",
    "                grad_b[str(layer)] = np.sum(grad_ha[str(layer)], axis=0)\n",
    "                grad_b[str(layer)] /= (X.shape[0])\n",
    "                \n",
    "            elif layer == 1:\n",
    "                \n",
    "                grad_hs[str(layer)] = grad_ha[str(layer+1)].dot((self.W['W' + str(layer+1)]).T) \n",
    "                grad_ha[str(layer)] = grad_hs[str(layer)] * self.indic(self.ha['ha' + str(layer)])\n",
    "                grad_W[str(layer)] = ((X).T).dot(grad_ha[str(layer)])\n",
    "                grad_W[str(layer)] /= (X.shape[0])\n",
    "                grad_b[str(layer)] = np.sum(grad_ha[str(layer)], axis=0)\n",
    "                grad_b[str(layer)] /= (X.shape[0])\n",
    "                \n",
    "            else:\n",
    "                \n",
    "                grad_hs[str(layer)] = grad_ha[str(layer+1)].dot((self.W['W' + str(layer+1)]).T) \n",
    "                grad_ha[str(layer)] = grad_hs[str(layer)] * self.indic(self.ha['ha' + str(layer)])\n",
    "                grad_W[str(layer)] = ((self.hs['hs' + str(layer-1)]).T).dot(grad_ha[str(layer)])\n",
    "                grad_W[str(layer)] /= (X.shape[0])\n",
    "                grad_b[str(layer)] = np.sum(grad_ha[str(layer)], axis=0)\n",
    "                grad_b[str(layer)] /= (X.shape[0])\n",
    "                \n",
    "        grad_W = dict(sorted(grad_W.items(), key=lambda x: x[0]))\n",
    "        grad_b = dict(sorted(grad_b.items(), key=lambda x: x[0]))\n",
    "        \n",
    "        self.grad_W = grad_W\n",
    "        self.grad_b = grad_b\n",
    "                \n",
    "        return grad_W, grad_b\n",
    "    \n",
    "    def update(self, weights_gradient, bias_gradient, lrate):\n",
    "        \n",
    "        \n",
    "        \"\"\"Procedure to update gradients. Parameter lrate is \n",
    "        the learning rate to which the parameters are being updated.\n",
    "        \"\"\"\n",
    "        \n",
    "        \n",
    "        weights_gradient.update({n: -lrate * weights_gradient[n] for n in weights_gradient.keys()})\n",
    "        bias_gradient.update({n: -lrate * bias_gradient[n] for n in bias_gradient.keys()})\n",
    "        \n",
    "        self.W = {kv2[0]: kv1[1] + kv2[1] for kv1,kv2 in zip(weights_gradient.items(),self.W.items())}\n",
    "        \n",
    "        self.b = {kv2[0]: kv1[1] + kv2[1] for kv1,kv2 in zip(bias_gradient.items(),self.b.items())}\n",
    "\n",
    "        \n",
    "        return self.W, self.b \n",
    "            \n",
    "    def train(self, X, Y, batch_size=1, epochs=25, lrate=0.03, print_stats = True):    \n",
    "        \n",
    "        \n",
    "        \"\"\"Training procedure.\"\"\"\n",
    "        \n",
    "        \n",
    "        train_err, valid_err, test_err, train_cost, valid_cost, test_cost = [], [], [], [], [], []\n",
    "            \n",
    "        for ep in range(epochs):\n",
    "                \n",
    "            for i in range(len(Y)//batch_size):\n",
    "                    \n",
    "                weights_gradient, bias_gradient = self.backward(X[i*batch_size:i*batch_size+batch_size,:],Y[i*batch_size:i*batch_size+batch_size])\n",
    "            \n",
    "                self.W, self.b = self.update(weights_gradient, bias_gradient, lrate)\n",
    "                \n",
    "            if (print_stats):\n",
    "                \n",
    "                print(\"-----Epoch \" + str(ep) + \"-----\")\n",
    "                \n",
    "                print(\"--Errors--\")\n",
    "                train=self.error(X, Y)\n",
    "                valid=self.error(self.valid_data,self.valid_labels)\n",
    "                test=self.error(self.test_data,self.test_labels)\n",
    "                train_err.append(train); valid_err.append(valid); test_err.append(test)\n",
    "                print(\"Train: \"+ str(train))\n",
    "                print(\"Valid: \"+ str(valid))\n",
    "                print(\"Test: \"+ str(test))\n",
    "                \n",
    "                print(\"--Mean costs--\")\n",
    "                train=self.loss(X, Y)\n",
    "                valid=self.loss(self.valid_data,self.valid_labels)\n",
    "                test=self.loss(self.test_data,self.test_labels)\n",
    "                train_cost.append(train); valid_cost.append(valid); test_cost.append(test)\n",
    "                print(\"Train: \"+ str(train))\n",
    "                print(\"Valid: \"+ str(valid))\n",
    "                print(\"Test: \"+ str(test))\n",
    "\n",
    "        self.train_err = train_err\n",
    "        self.valid_err = valid_err\n",
    "        self.test_err = test_err\n",
    "        \n",
    "        self.train_cost = train_cost\n",
    "        self.valid_cost = valid_cost\n",
    "        self.test_cost = test_cost\n",
    "    \n",
    "    def predict(self, X):\n",
    "      \n",
    "        \"\"\"Predict procedure: forward pass\"\"\"\n",
    "        \n",
    "        dict_ha, dict_hs = self.forward(X)\n",
    "        \n",
    "        return dict_hs['hs' + str(len(self.all_dim)-1)]    \n",
    "        \n",
    "    def error(self, X, Y):\n",
    "      \n",
    "        \"\"\"Determining error %\"\"\"\n",
    "        \n",
    "        selectmax = lambda y: self.onehot(np.argmax(y, axis =1), y.shape[1]) \n",
    "        preds=selectmax(self.predict(X))\n",
    "        labels=self.onehot(Y, self.output_dim)\n",
    "        results=preds*labels\n",
    "    \n",
    "        return 1-results.sum()/float(len(Y))\n",
    "        \n",
    "    def FD_gradients(self, X, Y, eps=0.0000005):\n",
    "      \n",
    "        \"\"\"Validate gradients using finite difference.\"\"\"\n",
    "        \n",
    "        m = self.all_dim[1]*self.all_dim[2]\n",
    "        self.p = min(10, m)\n",
    "        self.W['W2'] = self.W['W2'].reshape(-1, m)\n",
    "        \n",
    "        L_lower = []\n",
    "        L_upper = []\n",
    "        \n",
    "        for i in range(self.p):\n",
    "            \n",
    "            self.W['W2'][:,i]-=eps\n",
    "            self.W['W2'] = self.W['W2'].reshape(self.all_dim[1], self.all_dim[2])\n",
    "            L_lower.append(self.loss(X,Y))\n",
    "            \n",
    "            self.W['W2'] = self.W['W2'].reshape(-1, m)\n",
    "            self.W['W2'][:,i]+=(2*eps)\n",
    "            self.W['W2'] = self.W['W2'].reshape(self.all_dim[1], self.all_dim[2])\n",
    "            L_upper.append(self.loss(X,Y))\n",
    "            \n",
    "            self.W['W2'] = self.W['W2'].reshape(-1, m)\n",
    "            self.W['W2'][:,i]-=eps\n",
    "\n",
    "        gradients = np.array(L_upper)-np.array(L_lower)\n",
    "    \n",
    "        return gradients\n",
    "\n",
    "    def set_valid(self,X,Y):\n",
    "      \n",
    "        \"\"\"Setting the valid set.\"\"\"\n",
    "        \n",
    "        self.valid_data=X  \n",
    "        self.valid_labels=Y\n",
    "\n",
    "    def set_test(self,X,Y):\n",
    "      \n",
    "        \"\"\"Setting the test set.\"\"\"\n",
    "        \n",
    "        self.test_data=X\n",
    "        self.test_labels=Y"
   ]
  },
  {
   "cell_type": "markdown",
   "metadata": {
    "colab_type": "text",
    "id": "mqzn03sZA69W"
   },
   "source": [
    "## 4"
   ]
  },
  {
   "cell_type": "markdown",
   "metadata": {
    "colab_type": "text",
    "id": "50TV5Zd7BCov"
   },
   "source": [
    "#### Analyzing the effect of different initialization methods. The architecture used include the following hyperparameters:\n",
    "\n",
    "*   batch size = 1 (SGD)\n",
    "*   number of epochs = 10\n",
    "*   number of hidden layers = 2\n",
    "*   number of units in both hidden layers = 512\n",
    "*   learning rate = 0.005\n",
    "*   non-linearity of hidden layers = relu\n",
    "*   non-linearity of output layer = softmax\n",
    "\n",
    "#### ***The following models also answers the subquestion \"Train the MLP using the probability loss (cross entropy) as training criterion\". We minimize this criterion to optimize the model parameters using stochastic gradient descent'' as we are using this optimization method to train all subsequent models. The only difference that distingushes them is the initialization method. \n",
    "\n",
    "#### Hence, all of them have the following number of parameters (scalar count):\n",
    "\n",
    "*   number of weight parameters = (784x512) + (512x512) + (512x10) = 668, 672\n",
    "*   number of bias parameters = 512 + 512 +10 = 1, 034\n",
    "*   total number of parameters = 668, 672 + 1, 034 = **669, 706**\n"
   ]
  },
  {
   "cell_type": "markdown",
   "metadata": {
    "colab_type": "text",
    "id": "qgKbE-F6K5gq"
   },
   "source": [
    "#### I.Training using stochastic gradient descent for 10 epochs and with *zero* initialization"
   ]
  },
  {
   "cell_type": "code",
   "execution_count": 7,
   "metadata": {
    "colab": {
     "base_uri": "https://localhost:8080/",
     "height": 1547
    },
    "colab_type": "code",
    "id": "sZCQgATsJmqe",
    "outputId": "5e6b4492-8e8d-4df6-99f5-2792501b4829"
   },
   "outputs": [
    {
     "name": "stdout",
     "output_type": "stream",
     "text": [
      "-----Epoch 0-----\n",
      "--Errors--\n",
      "Train: 0.88644\n",
      "Valid: 0.8936\n",
      "Test: 0.8865\n",
      "--Mean costs--\n",
      "Train: 2.301584204913442\n",
      "Valid: 2.3020591539214545\n",
      "Test: 2.301529161799745\n",
      "-----Epoch 1-----\n",
      "--Errors--\n",
      "Train: 0.88644\n",
      "Valid: 0.8936\n",
      "Test: 0.8865\n",
      "--Mean costs--\n",
      "Train: 2.3015842049134307\n",
      "Valid: 2.302059153921453\n",
      "Test: 2.301529161799725\n",
      "-----Epoch 2-----\n",
      "--Errors--\n",
      "Train: 0.88644\n",
      "Valid: 0.8936\n",
      "Test: 0.8865\n",
      "--Mean costs--\n",
      "Train: 2.3015842049134307\n",
      "Valid: 2.302059153921453\n",
      "Test: 2.301529161799725\n",
      "-----Epoch 3-----\n",
      "--Errors--\n",
      "Train: 0.88644\n",
      "Valid: 0.8936\n",
      "Test: 0.8865\n",
      "--Mean costs--\n",
      "Train: 2.3015842049134307\n",
      "Valid: 2.302059153921453\n",
      "Test: 2.301529161799725\n",
      "-----Epoch 4-----\n",
      "--Errors--\n",
      "Train: 0.88644\n",
      "Valid: 0.8936\n",
      "Test: 0.8865\n",
      "--Mean costs--\n",
      "Train: 2.3015842049134307\n",
      "Valid: 2.302059153921453\n",
      "Test: 2.301529161799725\n",
      "-----Epoch 5-----\n",
      "--Errors--\n",
      "Train: 0.88644\n",
      "Valid: 0.8936\n",
      "Test: 0.8865\n",
      "--Mean costs--\n",
      "Train: 2.3015842049134307\n",
      "Valid: 2.302059153921453\n",
      "Test: 2.301529161799725\n",
      "-----Epoch 6-----\n",
      "--Errors--\n",
      "Train: 0.88644\n",
      "Valid: 0.8936\n",
      "Test: 0.8865\n",
      "--Mean costs--\n",
      "Train: 2.3015842049134307\n",
      "Valid: 2.302059153921453\n",
      "Test: 2.301529161799725\n",
      "-----Epoch 7-----\n",
      "--Errors--\n",
      "Train: 0.88644\n",
      "Valid: 0.8936\n",
      "Test: 0.8865\n",
      "--Mean costs--\n",
      "Train: 2.3015842049134307\n",
      "Valid: 2.302059153921453\n",
      "Test: 2.301529161799725\n",
      "-----Epoch 8-----\n",
      "--Errors--\n",
      "Train: 0.88644\n",
      "Valid: 0.8936\n",
      "Test: 0.8865\n",
      "--Mean costs--\n",
      "Train: 2.3015842049134307\n",
      "Valid: 2.302059153921453\n",
      "Test: 2.301529161799725\n",
      "-----Epoch 9-----\n",
      "--Errors--\n",
      "Train: 0.88644\n",
      "Valid: 0.8936\n",
      "Test: 0.8865\n",
      "--Mean costs--\n",
      "Train: 2.3015842049134307\n",
      "Valid: 2.302059153921453\n",
      "Test: 2.301529161799725\n"
     ]
    }
   ],
   "source": [
    "model_zero=NN( hidden_dim = [512, 512], initialization = \"zero\")\n",
    "model_zero.set_valid(valid_set[0], valid_set[1])\n",
    "model_zero.set_test(test_set[0], test_set[1])\n",
    "model_zero.train(train_set[0], train_set[1], batch_size=1, epochs=10, lrate=0.005, print_stats=True)"
   ]
  },
  {
   "cell_type": "markdown",
   "metadata": {
    "colab_type": "text",
    "id": "wNXhZtnxe7IF"
   },
   "source": [
    "We can then plot the learning and validation curves for the model using 'zero' initialization. "
   ]
  },
  {
   "cell_type": "code",
   "execution_count": 8,
   "metadata": {
    "colab": {
     "base_uri": "https://localhost:8080/",
     "height": 529
    },
    "colab_type": "code",
    "id": "rxf1priUe6Xx",
    "outputId": "120f4bac-8f47-4e25-c106-48c77d8749c6"
   },
   "outputs": [
    {
     "data": {
      "text/plain": [
       "<matplotlib.legend.Legend at 0x7f4e1fc93898>"
      ]
     },
     "execution_count": 8,
     "metadata": {
      "tags": []
     },
     "output_type": "execute_result"
    },
    {
     "data": {
      "image/png": "[encoded data removed]",
      "text/plain": [
       "<Figure size 1296x576 with 2 Axes>"
      ]
     },
     "metadata": {
      "tags": []
     },
     "output_type": "display_data"
    }
   ],
   "source": [
    "fig, (ax1, ax2) = plt.subplots(1, 2, figsize=(18, 8))\n",
    "\n",
    "\n",
    "ax1.plot(model_zero.valid_cost, label = 'Validation loss')\n",
    "ax1.plot(model_zero.train_cost, label = 'Training loss')\n",
    "ax1.set_ylabel('Cross Entropy')\n",
    "ax1.set_xlabel('Epochs')\n",
    "ax1.set_title('Loss Curves')\n",
    "ax1.legend(loc=\"center right\")\n",
    "            \n",
    "ax2.plot(model_zero.valid_err, label = 'Validation Error')\n",
    "ax2.plot(model_zero.train_err, label = 'Training Error')\n",
    "ax2.set_ylabel('Error')\n",
    "ax2.set_xlabel('Epochs')\n",
    "ax2.set_title('Error Curves')\n",
    "ax2.legend(loc=\"lower right\")\n",
    "            \n",
    "plt.legend()"
   ]
  },
  {
   "cell_type": "markdown",
   "metadata": {
    "colab_type": "text",
    "id": "X6A_QJmViK-3"
   },
   "source": [
    "Multiple problems emerge from initializing the weights all to zero. Indeed, when our model starts with equal weights,  all of them will have the same gradients and all of the neurons will end up having the same behavior as one another. Hence, when stuck in a local minima, the weights will keep updating to their same value and the model will be unable to continue learning. We can noticiably see the last statement in the loss and accuracy curves. If we study the error and accuracy logs, they are not changing at all as this initialization method prevents the network from learning. Therefore, to avoid this symmetry problem, we have to initialize the weights to unequal values."
   ]
  },
  {
   "cell_type": "markdown",
   "metadata": {
    "colab_type": "text",
    "id": "vMWNlLUdLnTa"
   },
   "source": [
    "#### II.Training using stochastic gradient descent for 10 epochs and with *normal* initialization"
   ]
  },
  {
   "cell_type": "code",
   "execution_count": 9,
   "metadata": {
    "colab": {
     "base_uri": "https://localhost:8080/",
     "height": 1581
    },
    "colab_type": "code",
    "id": "uqBamv4_LmcJ",
    "outputId": "eaa95b35-241f-4e1e-a4c4-d85b05d26adf"
   },
   "outputs": [
    {
     "name": "stdout",
     "output_type": "stream",
     "text": [
      "-----Epoch 0-----\n",
      "--Errors--\n",
      "Train: 0.60476\n",
      "Valid: 0.594\n",
      "Test: 0.6087\n",
      "--Mean costs--\n"
     ]
    },
    {
     "name": "stderr",
     "output_type": "stream",
     "text": [
      "/usr/local/lib/python3.6/dist-packages/ipykernel_launcher.py:151: RuntimeWarning: divide by zero encountered in log\n",
      "/usr/local/lib/python3.6/dist-packages/ipykernel_launcher.py:151: RuntimeWarning: invalid value encountered in multiply\n"
     ]
    },
    {
     "name": "stdout",
     "output_type": "stream",
     "text": [
      "Train: nan\n",
      "Valid: nan\n",
      "Test: nan\n",
      "-----Epoch 1-----\n",
      "--Errors--\n",
      "Train: 0.54128\n",
      "Valid: 0.5283\n",
      "Test: 0.5488999999999999\n",
      "--Mean costs--\n",
      "Train: nan\n",
      "Valid: nan\n",
      "Test: nan\n",
      "-----Epoch 2-----\n",
      "--Errors--\n",
      "Train: 0.5300400000000001\n",
      "Valid: 0.51\n",
      "Test: 0.5353\n",
      "--Mean costs--\n",
      "Train: nan\n",
      "Valid: nan\n",
      "Test: nan\n",
      "-----Epoch 3-----\n",
      "--Errors--\n",
      "Train: 0.45602\n",
      "Valid: 0.43679999999999997\n",
      "Test: 0.45899999999999996\n",
      "--Mean costs--\n",
      "Train: nan\n",
      "Valid: nan\n",
      "Test: nan\n",
      "-----Epoch 4-----\n",
      "--Errors--\n",
      "Train: 0.47982\n",
      "Valid: 0.4617\n",
      "Test: 0.48450000000000004\n",
      "--Mean costs--\n",
      "Train: nan\n",
      "Valid: nan\n",
      "Test: nan\n",
      "-----Epoch 5-----\n",
      "--Errors--\n",
      "Train: 0.44436\n",
      "Valid: 0.4263\n",
      "Test: 0.44699999999999995\n",
      "--Mean costs--\n",
      "Train: nan\n",
      "Valid: nan\n",
      "Test: nan\n",
      "-----Epoch 6-----\n",
      "--Errors--\n",
      "Train: 0.3698\n",
      "Valid: 0.34330000000000005\n",
      "Test: 0.37339999999999995\n",
      "--Mean costs--\n",
      "Train: nan\n",
      "Valid: nan\n",
      "Test: nan\n",
      "-----Epoch 7-----\n",
      "--Errors--\n",
      "Train: 0.36360000000000003\n",
      "Valid: 0.34140000000000004\n",
      "Test: 0.363\n",
      "--Mean costs--\n",
      "Train: nan\n",
      "Valid: nan\n",
      "Test: nan\n",
      "-----Epoch 8-----\n",
      "--Errors--\n",
      "Train: 0.33043999999999996\n",
      "Valid: 0.31179999999999997\n",
      "Test: 0.32809999999999995\n",
      "--Mean costs--\n",
      "Train: nan\n",
      "Valid: nan\n",
      "Test: nan\n",
      "-----Epoch 9-----\n",
      "--Errors--\n",
      "Train: 0.29974\n",
      "Valid: 0.2831\n",
      "Test: 0.2992\n",
      "--Mean costs--\n",
      "Train: nan\n",
      "Valid: nan\n",
      "Test: nan\n"
     ]
    }
   ],
   "source": [
    "model_normal=NN(hidden_dim = [512, 512], initialization = \"normal\")\n",
    "model_normal.set_valid(valid_set[0], valid_set[1])\n",
    "model_normal.set_test(test_set[0], test_set[1])\n",
    "model_normal.train(train_set[0], train_set[1], batch_size=1, epochs=10, lrate=0.005, print_stats=True)"
   ]
  },
  {
   "cell_type": "markdown",
   "metadata": {
    "colab_type": "text",
    "id": "K3lDp2Tmqju8"
   },
   "source": [
    "Let us plot the learning and validation curves for the model using 'normal' initialization. Here, the loss curves cannot be plotted as explained further. "
   ]
  },
  {
   "cell_type": "code",
   "execution_count": 10,
   "metadata": {
    "colab": {
     "base_uri": "https://localhost:8080/",
     "height": 393
    },
    "colab_type": "code",
    "id": "OSQNTXVmqjJP",
    "outputId": "f36d09d1-f1da-4f13-9635-fde713b33b66"
   },
   "outputs": [
    {
     "data": {
      "text/plain": [
       "<matplotlib.legend.Legend at 0x7f4e1fcc57b8>"
      ]
     },
     "execution_count": 10,
     "metadata": {
      "tags": []
     },
     "output_type": "execute_result"
    },
    {
     "data": {
      "image/png": "[encoded data removed]",
      "text/plain": [
       "<Figure size 576x396 with 1 Axes>"
      ]
     },
     "metadata": {
      "tags": []
     },
     "output_type": "display_data"
    }
   ],
   "source": [
    "plt.plot(model_normal.valid_err, label = 'Validation Error')\n",
    "plt.plot(model_normal.train_err, label = 'Training Error')\n",
    "plt.ylabel('Error')\n",
    "plt.xlabel('Epochs')\n",
    "plt.title('Error Curves')\n",
    "plt.legend(loc=\"lower right\")\n",
    "            \n",
    "plt.legend()"
   ]
  },
  {
   "cell_type": "markdown",
   "metadata": {
    "colab_type": "text",
    "id": "S-w1jaeirgNd"
   },
   "source": [
    "We once again see problems appearing, reiterating the importance of carefully choosing the random weight initialization. Indeed, random initialization is prone to vanishing or exploding gradient difficulties. The logs above indicate that we are experiencing a problem of vanishing gradient as a value too small (smaller than 1) is encountered in a logarithmic function. The problem, however, doesn't appear with fewer hidden units, but as considerable number of parameters are chosen, pre-activation values become extremely small (or explode, if we were in an exploding gradient situation) and the loss cannot be computed. To confirm our last findings, let us verify the pre-activation values of the last layer."
   ]
  },
  {
   "cell_type": "code",
   "execution_count": 0,
   "metadata": {
    "colab": {
     "base_uri": "https://localhost:8080/",
     "height": 238
    },
    "colab_type": "code",
    "id": "OVzaprzWFbT4",
    "outputId": "d1069b1c-2dd4-4e08-a252-014d3fbde437"
   },
   "outputs": [
    {
     "name": "stdout",
     "output_type": "stream",
     "text": [
      "[[0.00000000e+000 0.00000000e+000 1.36856184e-321 ... 1.00000000e+000\n",
      "  1.19656482e-216 6.65874409e-149]\n",
      " [3.33885007e-002 1.26698249e-002 1.44530540e-001 ... 6.15030276e-002\n",
      "  2.35360801e-001 2.18238767e-001]\n",
      " [2.01570123e-170 1.00000000e+000 9.47804783e-059 ... 4.61882775e-025\n",
      "  3.86680980e-038 4.37478502e-051]\n",
      " ...\n",
      " [4.28747617e-101 4.01204365e-020 2.74382656e-019 ... 3.36491155e-046\n",
      "  3.05525906e-045 3.43934173e-047]\n",
      " [2.56234272e-042 1.27303540e-013 1.13181424e-037 ... 9.67859828e-015\n",
      "  1.08429744e-011 3.81311069e-015]\n",
      " [0.00000000e+000 0.00000000e+000 8.96890258e-290 ... 0.00000000e+000\n",
      "  0.00000000e+000 0.00000000e+000]]\n"
     ]
    }
   ],
   "source": [
    "print(model_normal.hs['hs3'])"
   ]
  },
  {
   "cell_type": "markdown",
   "metadata": {
    "colab_type": "text",
    "id": "uqL0M3tHFdSN"
   },
   "source": [
    "As expected, the values are extremely small, making the optimization of the loss function incredibly slow or, in our case, stop the neural network from training all together."
   ]
  },
  {
   "cell_type": "markdown",
   "metadata": {
    "colab_type": "text",
    "id": "_ZtrZ4PQLrBB"
   },
   "source": [
    "#### III.Training using stochastic gradient descent for 10 epochs and with *glorot* initialization"
   ]
  },
  {
   "cell_type": "code",
   "execution_count": 11,
   "metadata": {
    "colab": {
     "base_uri": "https://localhost:8080/",
     "height": 1547
    },
    "colab_type": "code",
    "id": "TxnhXKJWLraN",
    "outputId": "fafcd5bd-f95e-477f-d8c1-1c94ab7334b1"
   },
   "outputs": [
    {
     "name": "stdout",
     "output_type": "stream",
     "text": [
      "-----Epoch 0-----\n",
      "--Errors--\n",
      "Train: 0.03805999999999998\n",
      "Valid: 0.03990000000000005\n",
      "Test: 0.04190000000000005\n",
      "--Mean costs--\n",
      "Train: 0.11978787562907704\n",
      "Valid: 0.12832966641774332\n",
      "Test: 0.13557733380862752\n",
      "-----Epoch 1-----\n",
      "--Errors--\n",
      "Train: 0.022760000000000002\n",
      "Valid: 0.03069999999999995\n",
      "Test: 0.032399999999999984\n",
      "--Mean costs--\n",
      "Train: 0.07288441459378546\n",
      "Valid: 0.09944003161094195\n",
      "Test: 0.10179199997339765\n",
      "-----Epoch 2-----\n",
      "--Errors--\n",
      "Train: 0.018900000000000028\n",
      "Valid: 0.029299999999999993\n",
      "Test: 0.031299999999999994\n",
      "--Mean costs--\n",
      "Train: 0.05697939196689078\n",
      "Valid: 0.09519381380448452\n",
      "Test: 0.10004540460977865\n",
      "-----Epoch 3-----\n",
      "--Errors--\n",
      "Train: 0.013939999999999952\n",
      "Valid: 0.026499999999999968\n",
      "Test: 0.028000000000000025\n",
      "--Mean costs--\n",
      "Train: 0.04262948539076934\n",
      "Valid: 0.09047338998648839\n",
      "Test: 0.09304551257702608\n",
      "-----Epoch 4-----\n",
      "--Errors--\n",
      "Train: 0.007460000000000022\n",
      "Valid: 0.02190000000000003\n",
      "Test: 0.02210000000000001\n",
      "--Mean costs--\n",
      "Train: 0.023292611411065183\n",
      "Valid: 0.07608822234432695\n",
      "Test: 0.07732049539475665\n",
      "-----Epoch 5-----\n",
      "--Errors--\n",
      "Train: 0.00546000000000002\n",
      "Valid: 0.020399999999999974\n",
      "Test: 0.02290000000000003\n",
      "--Mean costs--\n",
      "Train: 0.017248977533190244\n",
      "Valid: 0.07681157200594342\n",
      "Test: 0.07777617633182234\n",
      "-----Epoch 6-----\n",
      "--Errors--\n",
      "Train: 0.00541999999999998\n",
      "Valid: 0.020399999999999974\n",
      "Test: 0.02190000000000003\n",
      "--Mean costs--\n",
      "Train: 0.017025961992454753\n",
      "Valid: 0.08189022677652989\n",
      "Test: 0.07963854605687773\n",
      "-----Epoch 7-----\n",
      "--Errors--\n",
      "Train: 0.0031600000000000517\n",
      "Valid: 0.018299999999999983\n",
      "Test: 0.019000000000000017\n",
      "--Mean costs--\n",
      "Train: 0.010163385331311947\n",
      "Valid: 0.07552423747376595\n",
      "Test: 0.07232321274567503\n",
      "-----Epoch 8-----\n",
      "--Errors--\n",
      "Train: 0.0028200000000000447\n",
      "Valid: 0.018399999999999972\n",
      "Test: 0.02090000000000003\n",
      "--Mean costs--\n",
      "Train: 0.009359030934700106\n",
      "Valid: 0.07938127363291005\n",
      "Test: 0.07881534593741696\n",
      "-----Epoch 9-----\n",
      "--Errors--\n",
      "Train: 0.0028799999999999937\n",
      "Valid: 0.021100000000000008\n",
      "Test: 0.021700000000000053\n",
      "--Mean costs--\n",
      "Train: 0.00987883830354412\n",
      "Valid: 0.0882527471050018\n",
      "Test: 0.08574637856230782\n"
     ]
    }
   ],
   "source": [
    "model_glorot=NN(hidden_dim = [512, 512])\n",
    "model_glorot.set_valid(valid_set[0], valid_set[1])\n",
    "model_glorot.set_test(test_set[0], test_set[1])\n",
    "model_glorot.train(train_set[0], train_set[1], batch_size=1, epochs=10, lrate=0.005, print_stats=True)"
   ]
  },
  {
   "cell_type": "markdown",
   "metadata": {
    "colab_type": "text",
    "id": "gWZrZ5fpq0Qv"
   },
   "source": [
    "Plotting the learning and validation curves for the model using 'glorot' initialization. "
   ]
  },
  {
   "cell_type": "code",
   "execution_count": 12,
   "metadata": {
    "colab": {
     "base_uri": "https://localhost:8080/",
     "height": 529
    },
    "colab_type": "code",
    "id": "7zxhHXNEq0er",
    "outputId": "05ec7d09-ebf7-42b9-fae6-fb476b8f971c"
   },
   "outputs": [
    {
     "data": {
      "text/plain": [
       "<matplotlib.legend.Legend at 0x7f4e1fbd9ef0>"
      ]
     },
     "execution_count": 12,
     "metadata": {
      "tags": []
     },
     "output_type": "execute_result"
    },
    {
     "data": {
      "image/png": "[encoded data removed]",
      "text/plain": [
       "<Figure size 1296x576 with 2 Axes>"
      ]
     },
     "metadata": {
      "tags": []
     },
     "output_type": "display_data"
    }
   ],
   "source": [
    "fig, (ax1, ax2) = plt.subplots(1, 2, figsize=(18, 8))\n",
    "\n",
    "\n",
    "ax1.plot(model_glorot.valid_cost, label = 'Validation loss')\n",
    "ax1.plot(model_glorot.train_cost, label = 'Training loss')\n",
    "ax1.set_ylabel('Cross Entropy')\n",
    "ax1.set_xlabel('Epochs')\n",
    "ax1.set_title('Loss Curves')\n",
    "ax1.legend(loc=\"upper right\")\n",
    "            \n",
    "ax2.plot(model_glorot.valid_err, label = 'Validation Error')\n",
    "ax2.plot(model_glorot.train_err, label = 'Training Error')\n",
    "ax2.set_ylabel('Error')\n",
    "ax2.set_xlabel('Epochs')\n",
    "ax2.set_title('Error Curves')\n",
    "ax2.legend(loc=\"lower right\")\n",
    "            \n",
    "plt.legend()"
   ]
  },
  {
   "cell_type": "markdown",
   "metadata": {
    "colab_type": "text",
    "id": "NBdpvz9h1-jB"
   },
   "source": [
    "We can see now that our initialization using 'glorot' permits the model to appropriately learn and achieve good results. It is due to the fact that we truncated the variance of the distribution from which we generated our weights. This is done to also reduce the variance of output values in layers  and, in other words, to stop the variance of these values growing from layer to layer (hence limiting pre-activation values being very large or very small). It is a common strategy to avoid vanishing/exploding gradients. "
   ]
  },
  {
   "cell_type": "markdown",
   "metadata": {
    "colab_type": "text",
    "id": "gdxBye-UKWDI"
   },
   "source": [
    "## 5."
   ]
  },
  {
   "cell_type": "markdown",
   "metadata": {
    "colab_type": "text",
    "id": "YVfl1IXANHE7"
   },
   "source": [
    "####Hyperparameter search"
   ]
  },
  {
   "cell_type": "markdown",
   "metadata": {
    "colab_type": "text",
    "id": "uKefcNCeTHGv"
   },
   "source": [
    "We notice that with SGD and a deep neural net as ours, our training time was quite significant. We had already found an accuracy of over 97% with the glorot initialization and therefore the main motivation of our hyperparameter search was to find a model that was better or as performant, but that required less time to be trained. With the hyperparameters values of the 'model_glorot', we only changed the batch size to 32 and recorded the accuracies over different numbers of epochs as follows:"
   ]
  },
  {
   "cell_type": "markdown",
   "metadata": {
    "colab_type": "text",
    "id": "U6wlivw9Siff"
   },
   "source": [
    "\n",
    "\n",
    "Epoch | Accuracy\n",
    "--- | ---\n",
    "10 | 95.66%\n",
    "20 | 96.81%\n",
    "30 | 97.30%\n",
    "\n"
   ]
  },
  {
   "cell_type": "markdown",
   "metadata": {
    "colab_type": "text",
    "id": "PbXHDTtlUm9Q"
   },
   "source": [
    "Although the accuracy with 30 epochs is encouraging, it wasn't as good as the 'model_glorot' and training over more epochs would have taken the same amount of time as SGD (and it would have defeated our purpose). We then tried the following models, only changing the batch size to 64 and the learning rate to 0.0005:"
   ]
  },
  {
   "cell_type": "markdown",
   "metadata": {
    "colab_type": "text",
    "id": "ZSVVpp94WKhn"
   },
   "source": [
    "Epoch | Accuracy\n",
    "--- | ---\n",
    "10 | 87.63%\n",
    "20 | 90.30%\n",
    "30 | 91.34%"
   ]
  },
  {
   "cell_type": "markdown",
   "metadata": {
    "colab_type": "text",
    "id": "mUwElrofyQ4C"
   },
   "source": [
    "Noticeably, the results are poorer. Hence, as the 'glorot' model described previously already gave us an accuracy that is higher than 97% (97.89%), we decided to keep the same architecture but to only change the number of epochs. Indeed, we performed early stopping and trained our model on 9 epochs instead, since the valid accuracy was starting to increase at the 10th epoch while the train accuracy was still increasing (indicating that our model was starting to overfit our dataset-*see graphs above*). We finally end up with an accuracy of 98.16%.\n",
    "\n",
    "**Note: Even though the test accuracies are printed, they were not used in the hyperparameter search process. **"
   ]
  },
  {
   "cell_type": "code",
   "execution_count": 0,
   "metadata": {
    "colab": {
     "base_uri": "https://localhost:8080/",
     "height": 1394
    },
    "colab_type": "code",
    "id": "YVrjW7wFNvpr",
    "outputId": "6c7f53cf-b293-4296-e2a1-7ae6b4087dc6"
   },
   "outputs": [
    {
     "name": "stdout",
     "output_type": "stream",
     "text": [
      "-----Epoch 0-----\n",
      "--Errors--\n",
      "Train: 0.03805999999999998\n",
      "Valid: 0.03990000000000005\n",
      "Test: 0.04190000000000005\n",
      "--Mean costs--\n",
      "Train: 0.11978787562907704\n",
      "Valid: 0.12832966641774332\n",
      "Test: 0.13557733380862752\n",
      "-----Epoch 1-----\n",
      "--Errors--\n",
      "Train: 0.022760000000000002\n",
      "Valid: 0.03069999999999995\n",
      "Test: 0.032399999999999984\n",
      "--Mean costs--\n",
      "Train: 0.07288441459378546\n",
      "Valid: 0.09944003161094195\n",
      "Test: 0.10179199997339765\n",
      "-----Epoch 2-----\n",
      "--Errors--\n",
      "Train: 0.018900000000000028\n",
      "Valid: 0.029299999999999993\n",
      "Test: 0.031299999999999994\n",
      "--Mean costs--\n",
      "Train: 0.05697939196689078\n",
      "Valid: 0.09519381380448452\n",
      "Test: 0.10004540460977865\n",
      "-----Epoch 3-----\n",
      "--Errors--\n",
      "Train: 0.013939999999999952\n",
      "Valid: 0.026499999999999968\n",
      "Test: 0.028000000000000025\n",
      "--Mean costs--\n",
      "Train: 0.04262948539076934\n",
      "Valid: 0.09047338998648839\n",
      "Test: 0.09304551257702608\n",
      "-----Epoch 4-----\n",
      "--Errors--\n",
      "Train: 0.007460000000000022\n",
      "Valid: 0.02190000000000003\n",
      "Test: 0.02210000000000001\n",
      "--Mean costs--\n",
      "Train: 0.023292611411065183\n",
      "Valid: 0.07608822234432695\n",
      "Test: 0.07732049539475665\n",
      "-----Epoch 5-----\n",
      "--Errors--\n",
      "Train: 0.00546000000000002\n",
      "Valid: 0.020399999999999974\n",
      "Test: 0.02290000000000003\n",
      "--Mean costs--\n",
      "Train: 0.017248977533190244\n",
      "Valid: 0.07681157200594342\n",
      "Test: 0.07777617633182234\n",
      "-----Epoch 6-----\n",
      "--Errors--\n",
      "Train: 0.00541999999999998\n",
      "Valid: 0.020399999999999974\n",
      "Test: 0.02190000000000003\n",
      "--Mean costs--\n",
      "Train: 0.017025961992454753\n",
      "Valid: 0.08189022677652989\n",
      "Test: 0.07963854605687773\n",
      "-----Epoch 7-----\n",
      "--Errors--\n",
      "Train: 0.0031600000000000517\n",
      "Valid: 0.018299999999999983\n",
      "Test: 0.019000000000000017\n",
      "--Mean costs--\n",
      "Train: 0.010163385331311947\n",
      "Valid: 0.07552423747376595\n",
      "Test: 0.07232321274567503\n",
      "-----Epoch 8-----\n",
      "--Errors--\n",
      "Train: 0.0028200000000000447\n",
      "Valid: 0.018399999999999972\n",
      "Test: 0.02090000000000003\n",
      "--Mean costs--\n",
      "Train: 0.009359030934700106\n",
      "Valid: 0.07938127363291005\n",
      "Test: 0.07881534593741696\n"
     ]
    }
   ],
   "source": [
    "model_final=NN(hidden_dim = [512, 512])\n",
    "model_final.set_valid(valid_set[0], valid_set[1])\n",
    "model_final.set_test(test_set[0], test_set[1])\n",
    "model_final.train(train_set[0], train_set[1], batch_size=1, epochs=9, lrate=0.005, print_stats=True)"
   ]
  },
  {
   "cell_type": "markdown",
   "metadata": {
    "colab_type": "text",
    "id": "CW7RX-j8OABr"
   },
   "source": [
    "#6."
   ]
  },
  {
   "cell_type": "markdown",
   "metadata": {
    "colab_type": "text",
    "id": "j5PmuWSHKa6k"
   },
   "source": [
    "#### Validating Gradients using Finite Difference"
   ]
  },
  {
   "cell_type": "markdown",
   "metadata": {
    "colab_type": "text",
    "id": "GWm3iAbOMKYs"
   },
   "source": [
    "We perform gradient checking with the 'glorot' model previously defined."
   ]
  },
  {
   "cell_type": "code",
   "execution_count": 0,
   "metadata": {
    "colab": {
     "base_uri": "https://localhost:8080/",
     "height": 68
    },
    "colab_type": "code",
    "id": "gipwBQl-MK0N",
    "outputId": "25113dd5-58f6-4249-ecea-edf096d40ff1"
   },
   "outputs": [
    {
     "name": "stdout",
     "output_type": "stream",
     "text": [
      "[-0.00000000e+00 -0.00000000e+00  2.20949625e-09  1.04431468e-10\n",
      " -0.00000000e+00 -0.00000000e+00 -0.00000000e+00 -8.29626625e-09\n",
      " -0.00000000e+00 -7.02021174e-09]\n"
     ]
    }
   ],
   "source": [
    "true_glorot = model_glorot.grad_W['2'].reshape(-1)[:10]\n",
    "print(true_glorot)"
   ]
  },
  {
   "cell_type": "code",
   "execution_count": 0,
   "metadata": {
    "colab": {
     "base_uri": "https://localhost:8080/",
     "height": 34
    },
    "colab_type": "code",
    "id": "gWspBzW1Mep0",
    "outputId": "bc2172bc-d01a-4837-c417-5600708edee3"
   },
   "outputs": [
    {
     "name": "stdout",
     "output_type": "stream",
     "text": [
      "Maximum difference values : [8.296266252630074e-09, 8.296266252630074e-09, 8.296266252630074e-09, 8.296266252630074e-09, 8.296266252630074e-09]\n"
     ]
    }
   ],
   "source": [
    "i = np.array([0, 1, 2, 3, 4])\n",
    "k = np.array([1, 2, 3, 4, 5])\n",
    "N= (k*10)**i\n",
    "eps = 1/N\n",
    "\n",
    "max_values=[]      \n",
    "      \n",
    "for value in np.nditer(eps):\n",
    "  \n",
    "  finite_glorot = model_glorot.FD_gradients(train_set[0][28], train_set[1][28], eps = value)\n",
    "  max_values.append(np.max(np.abs(finite_glorot-true_glorot)))\n",
    "  \n",
    "print('Maximum difference values :', max_values)"
   ]
  },
  {
   "cell_type": "code",
   "execution_count": 0,
   "metadata": {
    "colab": {
     "base_uri": "https://localhost:8080/",
     "height": 393
    },
    "colab_type": "code",
    "id": "l--5m588Mlrb",
    "outputId": "5f4d9204-f2b7-49a7-c2c3-323a2c38c092"
   },
   "outputs": [
    {
     "data": {
      "text/plain": [
       "Text(0.5, 1.0, 'Difference between True and Approximate Gradients as a Function of N')"
      ]
     },
     "execution_count": 68,
     "metadata": {
      "tags": []
     },
     "output_type": "execute_result"
    },
    {
     "data": {
      "image/png": "[encoded data removed]",
      "text/plain": [
       "<Figure size 576x396 with 1 Axes>"
      ]
     },
     "metadata": {
      "tags": []
     },
     "output_type": "display_data"
    }
   ],
   "source": [
    "plt.plot(k, max_values)\n",
    "plt.xlabel('N Index Values')\n",
    "plt.ylabel('Difference values')\n",
    "plt.title('Difference between True and Approximate Gradients as a Function of N')"
   ]
  },
  {
   "cell_type": "markdown",
   "metadata": {
    "colab_type": "text",
    "id": "kbSBkba1K4Hv"
   },
   "source": [
    "After having tried multiple images, we see that the gradients of the finite difference method are stable, not letting us better analyze the difference. It is therefore best to test gradient checking on a model that was not trained for too long, as gradients are more susceptible of changing. This will help us better understand the effect of increasing the value of N. Let's do so with a model trained with one epoch:"
   ]
  },
  {
   "cell_type": "code",
   "execution_count": 0,
   "metadata": {
    "colab": {
     "base_uri": "https://localhost:8080/",
     "height": 170
    },
    "colab_type": "code",
    "id": "zwLLcPa4GsMm",
    "outputId": "7f50a5f8-4a80-443a-af1d-c2e47ec19db1"
   },
   "outputs": [
    {
     "name": "stdout",
     "output_type": "stream",
     "text": [
      "-----Epoch 0-----\n",
      "--Errors--\n",
      "Train: 0.03805999999999998\n",
      "Valid: 0.03990000000000005\n",
      "Test: 0.04190000000000005\n",
      "--Mean costs--\n",
      "Train: 0.11978787562907704\n",
      "Valid: 0.12832966641774332\n",
      "Test: 0.13557733380862752\n"
     ]
    }
   ],
   "source": [
    "model_FD=NN(hidden_dim = [512, 512])\n",
    "model_FD.set_valid(valid_set[0], valid_set[1])\n",
    "model_FD.set_test(test_set[0], test_set[1])\n",
    "model_FD.train(train_set[0], train_set[1], batch_size=1, epochs=1, lrate=0.005, print_stats=True)"
   ]
  },
  {
   "cell_type": "code",
   "execution_count": 0,
   "metadata": {
    "colab": {
     "base_uri": "https://localhost:8080/",
     "height": 68
    },
    "colab_type": "code",
    "id": "QUy2mjm9a9kK",
    "outputId": "bf2d8587-667c-442b-a77e-faf98ff29f6c"
   },
   "outputs": [
    {
     "name": "stdout",
     "output_type": "stream",
     "text": [
      "True gradients : [-1.62603055e-07 -0.00000000e+00 -0.00000000e+00  9.58662325e-07\n",
      " -0.00000000e+00 -0.00000000e+00 -0.00000000e+00 -9.42036247e-06\n",
      " -0.00000000e+00 -5.58049153e-06]\n"
     ]
    }
   ],
   "source": [
    "true_gradients = model_FD.grad_W['2'].reshape(-1)[:10]\n",
    "print('True gradients :', true_gradients)"
   ]
  },
  {
   "cell_type": "markdown",
   "metadata": {
    "colab_type": "text",
    "id": "KRbB4uxcwb9H"
   },
   "source": [
    "We then try multiple values of epsilon to approximate our gradients and obtain the maximum value of  difference between our true and finite difference gradients."
   ]
  },
  {
   "cell_type": "code",
   "execution_count": 0,
   "metadata": {
    "colab": {
     "base_uri": "https://localhost:8080/",
     "height": 34
    },
    "colab_type": "code",
    "id": "I2FC6OxPa9tI",
    "outputId": "bf3e519b-1a3a-4dd4-c704-dbf398a2fde5"
   },
   "outputs": [
    {
     "name": "stdout",
     "output_type": "stream",
     "text": [
      "Maximum difference values : [0.18399086139029847, 0.009203636966227103, 0.00020546280207038844, 9.420362470189442e-06, 9.420362470189442e-06]\n"
     ]
    }
   ],
   "source": [
    "i = np.array([0, 1, 2, 3, 4])\n",
    "k = np.array([1, 2, 3, 4, 5])\n",
    "N= (k*10)**i\n",
    "eps = 1/N\n",
    "\n",
    "max_values=[]      \n",
    "      \n",
    "for value in np.nditer(eps):\n",
    "  \n",
    "  finite_gradients = model_FD.FD_gradients(train_set[0][28], train_set[1][28], eps = value)\n",
    "  max_values.append(np.max(np.abs(finite_gradients-true_gradients)))\n",
    "  \n",
    "print('Maximum difference values :', max_values)"
   ]
  },
  {
   "cell_type": "code",
   "execution_count": 0,
   "metadata": {
    "colab": {
     "base_uri": "https://localhost:8080/",
     "height": 393
    },
    "colab_type": "code",
    "id": "rRDlcJ0kbxSa",
    "outputId": "6783a6ba-c8e3-4da1-8356-e56830f9fa8a"
   },
   "outputs": [
    {
     "data": {
      "text/plain": [
       "Text(0.5, 1.0, 'Difference between True and Approximate Gradients as a Function of N')"
      ]
     },
     "execution_count": 71,
     "metadata": {
      "tags": []
     },
     "output_type": "execute_result"
    },
    {
     "data": {
      "image/png": "[encoded data removed]",
      "text/plain": [
       "<Figure size 576x396 with 1 Axes>"
      ]
     },
     "metadata": {
      "tags": []
     },
     "output_type": "display_data"
    }
   ],
   "source": [
    "plt.plot(k, max_values)\n",
    "plt.xlabel('N Index Values')\n",
    "plt.ylabel('Difference values')\n",
    "plt.title('Difference between True and Approximate Gradients as a Function of N')"
   ]
  },
  {
   "cell_type": "markdown",
   "metadata": {
    "colab_type": "text",
    "id": "HT_TSJ6-_0rL"
   },
   "source": [
    "As anticipated, when N increases, the disparity between the true and finite difference gradients decreases. In fact, just by analyzing the values plotted, we see that they are very small. Because the relu activation function was used in hidden layers, the curve above is not very smooth. This can be explained by the fact that the relu function itself is not a smooth function, thus making gradients and weights change more abruptly in some cases or not change at all. \n",
    "\n",
    "For instance, for a particular image, finite difference gradients (hence losses) where not changing and therefore, it was not possible to validate our gradients. An explanation would be that regardless of perturbing the weights, pre-activation values were still negative, leading outputs to being the same by definition of the relu function. "
   ]
  }
 ],
 "metadata": {
  "accelerator": "GPU",
  "colab": {
   "collapsed_sections": [],
   "name": "Practical_Part1_Final.ipynb",
   "provenance": [],
   "version": "0.3.2"
  },
  "kernelspec": {
   "display_name": "Python 3",
   "language": "python",
   "name": "python3"
  },
  "language_info": {
   "codemirror_mode": {
    "name": "ipython",
    "version": 3
   },
   "file_extension": ".py",
   "mimetype": "text/x-python",
   "name": "python",
   "nbconvert_exporter": "python",
   "pygments_lexer": "ipython3",
   "version": "3.6.5"
  }
 },
 "nbformat": 4,
 "nbformat_minor": 1
}
